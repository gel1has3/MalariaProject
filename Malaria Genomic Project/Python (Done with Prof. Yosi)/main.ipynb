{
 "metadata": {
  "name": "",
  "signature": "sha256:c6c833bbdcc17bb3881743931fa9526523276958d3418803384ce634149f635d"
 },
 "nbformat": 3,
 "nbformat_minor": 0,
 "worksheets": [
  {
   "cells": [
    {
     "cell_type": "code",
     "collapsed": false,
     "input": [
      "run malaria"
     ],
     "language": "python",
     "metadata": {},
     "outputs": [],
     "prompt_number": 1
    },
    {
     "cell_type": "code",
     "collapsed": false,
     "input": [
      "IDs,proteomes,short_names = LoadProteomes()"
     ],
     "language": "python",
     "metadata": {},
     "outputs": [],
     "prompt_number": 2
    },
    {
     "cell_type": "code",
     "collapsed": false,
     "input": [
      "CreateQueryFasta('OocystAgonist',IDs,proteomes,short_names)"
     ],
     "language": "python",
     "metadata": {},
     "outputs": [
      {
       "output_type": "stream",
       "stream": "stdout",
       "text": [
        "1 gambiae AGAP006782-PA 7372 0\n",
        "2"
       ]
      },
      {
       "output_type": "stream",
       "stream": "stdout",
       "text": [
        " gambiae AGAP005627-PD 6152 0\n",
        "2 gambiae AGAP005627-PG 6153 0\n",
        "2 gambiae AGAP005627-PB 6154 0\n",
        "2 gambiae AGAP005627-PE 6155 0\n",
        "2 gambiae AGAP005627-PA 6156 0\n",
        "2 gambiae AGAP005627-PC 6157 0\n",
        "3"
       ]
      },
      {
       "output_type": "stream",
       "stream": "stdout",
       "text": [
        " gambiae AGAP007938-PA 8641 0\n",
        "4"
       ]
      },
      {
       "output_type": "stream",
       "stream": "stdout",
       "text": [
        " gambiae AGAP006473-PA 7036 0\n",
        "5"
       ]
      },
      {
       "output_type": "stream",
       "stream": "stdout",
       "text": [
        " gambiae AGAP011790-PB 12577 0\n",
        "6"
       ]
      },
      {
       "output_type": "stream",
       "stream": "stdout",
       "text": [
        " gambiae AGAP011787-PA 12573 0\n",
        "7"
       ]
      },
      {
       "output_type": "stream",
       "stream": "stdout",
       "text": [
        " gambiae AGAP010731-PA 11548 0\n",
        "8"
       ]
      },
      {
       "output_type": "stream",
       "stream": "stdout",
       "text": [
        " gambiae AGAP003249-PA 3495 0\n",
        "9"
       ]
      },
      {
       "output_type": "stream",
       "stream": "stdout",
       "text": [
        " Aedes AAEL011616-PA 12173 17\n",
        "10"
       ]
      },
      {
       "output_type": "stream",
       "stream": "stdout",
       "text": [
        " gambiae AGAP007864-PB 8549 0\n",
        "10 gambiae AGAP007864-PA 8550 0\n",
        "10 gambiae AGAP007864-PC 8551 0\n",
        "11"
       ]
      },
      {
       "output_type": "stream",
       "stream": "stdout",
       "text": [
        " gambiae AGAP000500-PC 510 0\n",
        "11 gambiae AGAP000500-PB 511 0\n",
        "11 gambiae AGAP000500-PA 512 0\n",
        "11 gambiae AGAP000500-PD 513 0\n",
        "12"
       ]
      },
      {
       "output_type": "stream",
       "stream": "stdout",
       "text": [
        " gambiae AGAP005335-PA 5824 0\n",
        "13"
       ]
      },
      {
       "output_type": "stream",
       "stream": "stdout",
       "text": [
        " gambiae AGAP005334-PA 5823 0\n",
        "14"
       ]
      },
      {
       "output_type": "stream",
       "stream": "stdout",
       "text": [
        " gambiae AGAP009978-PA 10756 0\n",
        "15"
       ]
      },
      {
       "output_type": "stream",
       "stream": "stdout",
       "text": [
        " gambiae AGAP010240-PA 11055 0\n",
        "16"
       ]
      },
      {
       "output_type": "stream",
       "stream": "stdout",
       "text": [
        " gambiae AGAP011369-PA 12168 0\n",
        "17"
       ]
      },
      {
       "output_type": "stream",
       "stream": "stdout",
       "text": [
        " gambiae AGAP012378-PA 13154 0\n",
        "18"
       ]
      },
      {
       "output_type": "stream",
       "stream": "stdout",
       "text": [
        " gambiae AGAP000761-PA 786 0\n",
        "19"
       ]
      },
      {
       "output_type": "stream",
       "stream": "stdout",
       "text": [
        " gambiae AGAP013327-PA 14096 0\n",
        "20"
       ]
      },
      {
       "output_type": "stream",
       "stream": "stdout",
       "text": [
        " gambiae AGAP007629-PB 8263 0\n",
        "20 gambiae AGAP007629-PA 8264 0\n",
        "21"
       ]
      },
      {
       "output_type": "stream",
       "stream": "stdout",
       "text": [
        " gambiae AGAP007347-PA 7978 0\n",
        "22"
       ]
      },
      {
       "output_type": "stream",
       "stream": "stdout",
       "text": [
        " gambiae AGAP001751-PC 1869 0\n",
        "22 gambiae AGAP001751-PB 1870 0\n",
        "22 gambiae AGAP001751-PD 1871 0\n",
        "22 gambiae AGAP001751-PA 1872 0\n",
        "22 gambiae AGAP001751-PE 1873 0\n",
        "23"
       ]
      },
      {
       "output_type": "stream",
       "stream": "stdout",
       "text": [
        " gambiae AGAP005811-PA 6351 0\n",
        "24"
       ]
      },
      {
       "output_type": "stream",
       "stream": "stdout",
       "text": [
        " gambiae AGAP005031-PA 5451 0\n",
        "24 gambiae AGAP005031-PB 5452 0\n",
        "25"
       ]
      },
      {
       "output_type": "stream",
       "stream": "stdout",
       "text": [
        " gambiae AGAP006102-PA 6667 0\n",
        "26"
       ]
      },
      {
       "output_type": "stream",
       "stream": "stdout",
       "text": [
        " gambiae AGAP001826-PA 1964 0\n",
        "27"
       ]
      },
      {
       "output_type": "stream",
       "stream": "stdout",
       "text": [
        " gambiae AGAP010133-PA 10913 0\n",
        "28"
       ]
      },
      {
       "output_type": "stream",
       "stream": "stdout",
       "text": [
        " gambiae AGAP002521-PB 2687 0\n",
        "28 gambiae AGAP002521-PA 2688 0\n",
        "29"
       ]
      },
      {
       "output_type": "stream",
       "stream": "stdout",
       "text": [
        " gambiae AGAP006911-PA 7510 0\n",
        "30"
       ]
      },
      {
       "output_type": "stream",
       "stream": "stdout",
       "text": [
        " gambiae AGAP004203-PA 4533 0\n",
        "31"
       ]
      },
      {
       "output_type": "stream",
       "stream": "stdout",
       "text": [
        " gambiae AGAP004016-PA 4339 0\n",
        "32"
       ]
      },
      {
       "output_type": "stream",
       "stream": "stdout",
       "text": [
        " gambiae AGAP006914-PA 7512 0\n",
        "33"
       ]
      },
      {
       "output_type": "stream",
       "stream": "stdout",
       "text": [
        " gambiae AGAP013527-PA 14310 0\n"
       ]
      }
     ],
     "prompt_number": 3
    },
    {
     "cell_type": "code",
     "collapsed": false,
     "input": [
      "CreateQueryFasta('OocystAntagonist',IDs,proteomes,short_names)"
     ],
     "language": "python",
     "metadata": {},
     "outputs": [
      {
       "output_type": "stream",
       "stream": "stdout",
       "text": [
        "1 gambiae AGAP007035-PA 7641 0\n",
        "2"
       ]
      },
      {
       "output_type": "stream",
       "stream": "stdout",
       "text": [
        " gambiae AGAP007033-PA 7639 0\n",
        "3"
       ]
      },
      {
       "output_type": "stream",
       "stream": "stdout",
       "text": [
        " gambiae AGAP002593-PA 2769 0\n",
        "4"
       ]
      },
      {
       "output_type": "stream",
       "stream": "stdout",
       "text": [
        " gambiae AGAP013365-PA 14133 0\n",
        "5"
       ]
      },
      {
       "output_type": "stream",
       "stream": "stdout",
       "text": [
        " gambiae AGAP011693-PA 12478 0\n",
        "6"
       ]
      },
      {
       "output_type": "stream",
       "stream": "stdout",
       "text": [
        " gambiae AGAP000235-PC 225 0\n",
        "6 gambiae AGAP000235-PB 226 0\n",
        "6 gambiae AGAP000235-PA 227 0\n",
        "8"
       ]
      },
      {
       "output_type": "stream",
       "stream": "stdout",
       "text": [
        " gambiae AGAP010833-PA 11648 0\n",
        "9"
       ]
      },
      {
       "output_type": "stream",
       "stream": "stdout",
       "text": [
        " gambiae AGAP009844-PA 10621 0\n",
        "10"
       ]
      },
      {
       "output_type": "stream",
       "stream": "stdout",
       "text": [
        " gambiae AGAP007173-PA 7792 0\n",
        "11"
       ]
      },
      {
       "output_type": "stream",
       "stream": "stdout",
       "text": [
        " gambiae AGAP011231-PA 12029 0\n",
        "12"
       ]
      },
      {
       "output_type": "stream",
       "stream": "stdout",
       "text": [
        " gambiae AGAP011223-PA 12021 0\n",
        "13"
       ]
      },
      {
       "output_type": "stream",
       "stream": "stdout",
       "text": [
        " gambiae AGAP011197-PA 11995 0\n",
        "14"
       ]
      },
      {
       "output_type": "stream",
       "stream": "stdout",
       "text": [
        " gambiae AGAP000806-PA 832 0\n",
        "15"
       ]
      },
      {
       "output_type": "stream",
       "stream": "stdout",
       "text": [
        " gambiae AGAP008645-PA 9383 0\n",
        "16"
       ]
      },
      {
       "output_type": "stream",
       "stream": "stdout",
       "text": [
        " gambiae AGAP012409-PA 13185 0\n",
        "17"
       ]
      },
      {
       "output_type": "stream",
       "stream": "stdout",
       "text": [
        " gambiae AGAP004455-PA 4804 0\n",
        "18"
       ]
      },
      {
       "output_type": "stream",
       "stream": "stdout",
       "text": [
        " gambiae AGAP002799-PA 2983 0\n",
        "19"
       ]
      },
      {
       "output_type": "stream",
       "stream": "stdout",
       "text": [
        " gambiae AGAP002796-PA 2979 0\n",
        "20"
       ]
      },
      {
       "output_type": "stream",
       "stream": "stdout",
       "text": [
        " gambiae AGAP011452-PA 12249 0\n",
        "21"
       ]
      },
      {
       "output_type": "stream",
       "stream": "stdout",
       "text": [
        " gambiae AGAP003631-PA 3925 0\n",
        "22"
       ]
      },
      {
       "output_type": "stream",
       "stream": "stdout",
       "text": [
        " gambiae AGAP000888-PA 916 0\n",
        "22 gambiae AGAP000888-PB 917 0\n",
        "23"
       ]
      },
      {
       "output_type": "stream",
       "stream": "stdout",
       "text": [
        " gambiae AGAP005933-PA 6479 0\n",
        "24"
       ]
      },
      {
       "output_type": "stream",
       "stream": "stdout",
       "text": [
        " gambiae AGAP004959-PA 5375 0\n",
        "24 gambiae AGAP004959-PB 5376 0\n",
        "25"
       ]
      },
      {
       "output_type": "stream",
       "stream": "stdout",
       "text": [
        " gambiae AGAP006421-PA 6978 0\n",
        "26"
       ]
      },
      {
       "output_type": "stream",
       "stream": "stdout",
       "text": [
        " gambiae AGAP000151-PA 141 0\n",
        "27"
       ]
      },
      {
       "output_type": "stream",
       "stream": "stdout",
       "text": [
        " gambiae AGAP009461-PB 10225 0\n",
        "27 gambiae AGAP009461-PA 10226 0\n",
        "28"
       ]
      },
      {
       "output_type": "stream",
       "stream": "stdout",
       "text": [
        " gambiae AGAP006348-PA 6898 0\n",
        "29"
       ]
      },
      {
       "output_type": "stream",
       "stream": "stdout",
       "text": [
        " gambiae AGAP005693-PA 6224 0\n",
        "30"
       ]
      },
      {
       "output_type": "stream",
       "stream": "stdout",
       "text": [
        " gambiae AGAP001297-PA 1370 0\n",
        "31"
       ]
      },
      {
       "output_type": "stream",
       "stream": "stdout",
       "text": [
        " gambiae AGAP012352-PA 13126 0\n",
        "32"
       ]
      },
      {
       "output_type": "stream",
       "stream": "stdout",
       "text": [
        " gambiae AGAP005203-PJ 5654 0\n",
        "32 gambiae AGAP005203-PH 5655 0\n",
        "32 gambiae AGAP005203-PF 5656 0\n",
        "32 gambiae AGAP005203-PD 5657 0\n",
        "32 gambiae AGAP005203-PC 5658 0\n",
        "32 gambiae AGAP005203-PE 5659 0\n",
        "32 gambiae AGAP005203-PA 5660 0\n",
        "32 gambiae AGAP005203-PB 5661 0\n",
        "33"
       ]
      },
      {
       "output_type": "stream",
       "stream": "stdout",
       "text": [
        " gambiae AGAP006747-PA 7339 0\n",
        "34"
       ]
      },
      {
       "output_type": "stream",
       "stream": "stdout",
       "text": [
        " gambiae AGAP012946-PA 13695 0\n",
        "35"
       ]
      },
      {
       "output_type": "stream",
       "stream": "stdout",
       "text": [
        " gambiae AGAP009212-PA 9961 0\n",
        "36"
       ]
      },
      {
       "output_type": "stream",
       "stream": "stdout",
       "text": [
        " gambiae AGAP000099-PA 92 0\n",
        "37"
       ]
      },
      {
       "output_type": "stream",
       "stream": "stdout",
       "text": [
        " gambiae AGAP010815-PA 11630 0\n",
        "38"
       ]
      },
      {
       "output_type": "stream",
       "stream": "stdout",
       "text": [
        " gambiae AGAP005233-PA 5695 0\n",
        "39"
       ]
      },
      {
       "output_type": "stream",
       "stream": "stdout",
       "text": [
        " gambiae AGAP001081-PA 1140 0\n",
        "40"
       ]
      },
      {
       "output_type": "stream",
       "stream": "stdout",
       "text": [
        " gambiae AGAP009053-PA 9799 0\n",
        "41"
       ]
      },
      {
       "output_type": "stream",
       "stream": "stdout",
       "text": [
        " gambiae AGAP002523-PA 2690 0\n",
        "42"
       ]
      },
      {
       "output_type": "stream",
       "stream": "stdout",
       "text": [
        " gambiae AGAP006436-PA 6993 0\n",
        "43"
       ]
      },
      {
       "output_type": "stream",
       "stream": "stdout",
       "text": [
        " gambiae AGAP005761-PA 6296 0\n",
        "44"
       ]
      },
      {
       "output_type": "stream",
       "stream": "stdout",
       "text": [
        " gambiae AGAP009642-PA 10411 0\n",
        "45"
       ]
      },
      {
       "output_type": "stream",
       "stream": "stdout",
       "text": [
        " gambiae AGAP010325-PA 11142 0\n"
       ]
      }
     ],
     "prompt_number": 4
    },
    {
     "cell_type": "code",
     "collapsed": false,
     "input": [
      "CreateQueryFasta('OocystMixed',IDs,proteomes,short_names)"
     ],
     "language": "python",
     "metadata": {},
     "outputs": [
      {
       "output_type": "stream",
       "stream": "stdout",
       "text": [
        "1 gambiae AGAP005335-PA 5824 0\n",
        "2"
       ]
      },
      {
       "output_type": "stream",
       "stream": "stdout",
       "text": [
        " gambiae AGAP005334-PA 5823 0\n",
        "3"
       ]
      },
      {
       "output_type": "stream",
       "stream": "stdout",
       "text": [
        " gambiae AGAP011231-PA 12029 0\n",
        "4"
       ]
      },
      {
       "output_type": "stream",
       "stream": "stdout",
       "text": [
        " gambiae AGAP010220-PA 11026 0\n",
        "4 gambiae AGAP010221-PA 11027 0\n",
        "4 gambiae AGAP010222-PA 11028 0\n",
        "4 gambiae AGAP010223-PA 11029 0\n",
        "4 gambiae AGAP010224-PA 11030 0\n",
        "4 gambiae AGAP010225-PA 11031 0\n",
        "4 gambiae AGAP010226-PB 11032 0\n",
        "4 gambiae AGAP010226-PA 11033 0\n",
        "4 gambiae AGAP010226-PC 11034 0\n",
        "4 gambiae AGAP010227-PA 11035 0\n",
        "4 gambiae AGAP010228-PA 11036 0\n",
        "4 gambiae AGAP010229-PA 11037 0\n",
        "5"
       ]
      },
      {
       "output_type": "stream",
       "stream": "stdout",
       "text": [
        " gambiae AGAP000761-PA 786 0\n",
        "6"
       ]
      },
      {
       "output_type": "stream",
       "stream": "stdout",
       "text": [
        " gambiae AGAP004192-PA 4522 0\n",
        "7"
       ]
      },
      {
       "output_type": "stream",
       "stream": "stdout",
       "text": [
        " gambiae AGAP006348-PA 6898 0\n",
        "8"
       ]
      },
      {
       "output_type": "stream",
       "stream": "stdout",
       "text": [
        " gambiae AGAP001751-PC 1869 0\n",
        "8 gambiae AGAP001751-PB 1870 0\n",
        "8 gambiae AGAP001751-PD 1871 0\n",
        "8 gambiae AGAP001751-PA 1872 0\n",
        "8 gambiae AGAP001751-PE 1873 0\n",
        "9"
       ]
      },
      {
       "output_type": "stream",
       "stream": "stdout",
       "text": [
        " gambiae AGAP009212-PA 9961 0\n",
        "10"
       ]
      },
      {
       "output_type": "stream",
       "stream": "stdout",
       "text": [
        " gambiae AGAP002523-PA 2690 0\n"
       ]
      }
     ],
     "prompt_number": 5
    },
    {
     "cell_type": "code",
     "collapsed": false,
     "input": [],
     "language": "python",
     "metadata": {},
     "outputs": []
    }
   ],
   "metadata": {}
  }
 ]
}